{
 "cells": [
  {
   "cell_type": "markdown",
   "metadata": {},
   "source": [
    "<h1 style=\"color:DodgerBlue\">Индивидальный проект</h1>"
   ]
  },
  {
   "cell_type": "markdown",
   "metadata": {},
   "source": [
    "<h2 style=\"color:DodgerBlue\">Название проекта:</h2>\n",
    "\n",
    "----\n",
    "\n",
    "### Вариант задания 9\n"
   ]
  },
  {
   "cell_type": "markdown",
   "metadata": {},
   "source": [
    "<h2 style=\"color:DodgerBlue\">Описание проекта:</h2>\n",
    "\n",
    "----\n",
    "\n",
    "\n",
    "Описание задачи:\n",
    "Создать базовый класс Inventory в C#, который будет представлять информацию о\n",
    "наличии товаров на складе. На основе этого класса разработать 2-3 производных\n",
    "класса, демонстрирующих принципы наследования и полиморфизма. В каждом из\n",
    "классов должны быть реализованы новые атрибуты и методы, а также\n",
    "переопределены некоторые методы базового класса для демонстрации\n",
    "полиморфизма.\n",
    "\n",
    "Требования к базовому классу Inventory:\n",
    "• Атрибуты: ID склада (WarehouseId), Название склада (WarehouseName),\n",
    "Общий объем хранения (StorageCapacity).\n",
    "• Методы:\n",
    "o\n",
    "o GetStorageStatus(): метод для получения статуса доступного\n",
    "пространства на складе.\n",
    "o AddItem(Item item): метод для добавления товара на склад.\n",
    "o RemoveItem(Item item): метод для удаления товара со склада.\n",
    "Требования к производным классам:\n",
    "1. ПерсональныйСклад (PersonalInventory): Должен содержать\n",
    "дополнительные атрибуты, такие как Владелец склада (OwnerName).\n",
    "Метод GetStorageStatus() должен быть переопределен для отображения\n",
    "информации о владельце склада вместе с статусом хранения.\n",
    "2. ГрупповойСклад (GroupInventory): Должен содержать дополнительные\n",
    "атрибуты, такие как Группа товаров (ProductGroup). Метод AddItem() должен\n",
    "быть переопределен для добавления информации о группе товаров при\n",
    "добавлении нового товара.\n",
    "3. АвтоматизированныйСклад (AutomatedInventory) (если требуется третий\n",
    "класс): Должен содержать дополнительные атрибуты, такие как\n",
    "Автоматизация уровня (AutomationLevel). Метод RemoveItem() должен быть\n",
    "переопределен для добавления информации о уровне автоматизации при\n",
    "удалении товара.\n"
   ]
  },
  {
   "cell_type": "markdown",
   "metadata": {},
   "source": [
    "<h2 style=\"color:DodgerBlue\">Реализация:</h2>\n",
    "\n",
    "----"
   ]
  },
  {
   "cell_type": "code",
   "execution_count": 2,
   "metadata": {
    "dotnet_interactive": {
     "language": "csharp"
    },
    "polyglot_notebook": {
     "kernelName": "csharp"
    }
   },
   "outputs": [
    {
     "name": "stdout",
     "output_type": "stream",
     "text": [
      "Владелец: Иван Иванов, доступно места: 35\n",
      "Владелец: Иван Иванов, доступно места: 10\n",
      "Владелец: Иван Иванов, доступно места: 10\n",
      "Доступное место на персональном складе: 10 единиц.\n",
      "Товар добавлен в группу: Игрушки\n",
      "Доступное место на групповом складе: 125 единиц.\n",
      "Удаление товара выполнено с уровнем автоматизации: 3\n",
      "Доступное место на автоматизированном складе: 50 единиц.\n"
     ]
    }
   ],
   "source": [
    "public class Inventory\n",
    "{\n",
    "    public int WarehouseId { get; private set; }\n",
    "    public string WarehouseName { get; private set; }\n",
    "    public int StorageCapacity { get; private set; }\n",
    "    public int StorageAviable { get; private set; }\n",
    "    protected List<Item> Items { get; private set; }\n",
    "\n",
    "    public Inventory(int warehouseId, string warehouseName, int storageCapacity, int storageAviable)\n",
    "    {\n",
    "        WarehouseId = warehouseId;\n",
    "        WarehouseName = warehouseName;\n",
    "        StorageCapacity = storageCapacity;\n",
    "        StorageAviable = storageAviable;\n",
    "        Items = new List<Item>();\n",
    "    }\n",
    "\n",
    "    public virtual void AddItem(Item item)\n",
    "    {\n",
    "        if (StorageAviable >= item.Mount)\n",
    "        {\n",
    "            Items.Add(item);\n",
    "            StorageAviable -= item.Mount;  \n",
    "            GetStorageStatus();\n",
    "        }\n",
    "        else\n",
    "        {\n",
    "            Console.WriteLine(\"Недостаточно места для добавления этого товара.\");\n",
    "        }\n",
    "    }\n",
    "\n",
    "    public virtual int GetStorageStatus()\n",
    "    {\n",
    "        return StorageAviable;\n",
    "    }\n",
    "\n",
    "    public virtual void RemoveItem(Item item)\n",
    "    {\n",
    "        if (Items.Remove(item))\n",
    "        {\n",
    "            StorageAviable += item.Mount; \n",
    "            GetStorageStatus();\n",
    "        }\n",
    "    }\n",
    "}\n",
    "\n",
    "public class Item\n",
    "{\n",
    "    public int Mount { get; set; }\n",
    "\n",
    "    public Item(int mount)\n",
    "    {\n",
    "        Mount = mount;\n",
    "    }\n",
    "}\n",
    "\n",
    "\n",
    "\n",
    "\n",
    "\n",
    "public class PersonalInventory : Inventory\n",
    "{\n",
    "    public string OwnerName { get; private set; }\n",
    "\n",
    "    public PersonalInventory(int warehouseId, string warehouseName, int storageCapacity, int storageAviable, string ownerName)\n",
    "        : base(warehouseId, warehouseName, storageCapacity, storageAviable)\n",
    "    {\n",
    "        OwnerName = ownerName;\n",
    "    }\n",
    "\n",
    "\n",
    "    public override int GetStorageStatus()\n",
    "    {\n",
    "        int availableStorage = base.GetStorageStatus();\n",
    "        Console.WriteLine($\"Владелец: {OwnerName}, доступно места: {availableStorage}\");\n",
    "        return availableStorage;\n",
    "    }\n",
    "}\n",
    "\n",
    
    "public class GroupInventory : Inventory\n",
    "{\n",
    "    public string ProductGroup { get; private set; }\n",
    "\n",
    "    public GroupInventory(int warehouseId, string warehouseName, int storageCapacity, int storageAviable, string productGroup)\n",
    "        : base(warehouseId, warehouseName, storageCapacity, storageAviable)\n",
    "    {\n",
    "        ProductGroup = productGroup;\n",
    "    }\n",
    "\n",
    "    
    "    public override void AddItem(Item item)\n",
    "    {\n",
    "        base.AddItem(item);\n",
    "        Console.WriteLine($\"Товар добавлен в группу: {ProductGroup}\");\n",
    "    }\n",
    "}\n",
    "\n",
   
    "public class AutomatedInventory : Inventory\n",
    "{\n",
    "    public int AutomationLevel { get; private set; }\n",
    "\n",
    "    public AutomatedInventory(int warehouseId, string warehouseName, int storageCapacity, int storageAviable, int automationLevel)\n",
    "        : base(warehouseId, warehouseName, storageCapacity, storageAviable)\n",
    "    {\n",
    "        AutomationLevel = automationLevel;\n",
    "    }\n",
    "\n",
    "    
    "    public override void RemoveItem(Item item)\n",
    "    {\n",
    "        base.RemoveItem(item);\n",
    "        Console.WriteLine($\"Удаление товара выполнено с уровнем автоматизации: {AutomationLevel}\");\n",
    "    }\n",
    "}\n",
    "\n",
    "\n",
    "\n",
    "\n",
    "Item item1 = new Item(15); \n",
    "Item item2 = new Item(25); \n",
    "Item item3 = new Item(50); \n",
    "\n",
    "\n",
    "PersonalInventory personalInventory = new PersonalInventory(1, \"Склад №1\", 100, 50, \"Иван Иванов\");\n",
    "personalInventory.AddItem(item1);\n",
    "personalInventory.AddItem(item2);\n",
    "Console.WriteLine($\"Доступное место на персональном складе: {personalInventory.GetStorageStatus()} единиц.\");\n",
    "\n",
    
    "GroupInventory groupInventory = new GroupInventory(2, \"Склад №2\", 200, 150, \"Игрушки\");\n",
    "groupInventory.AddItem(item2);\n",
    "Console.WriteLine($\"Доступное место на групповом складе: {groupInventory.GetStorageStatus()} единиц.\");\n",
    "\n",
    
    "AutomatedInventory automatedInventory = new AutomatedInventory(3, \"Склад №3\", 300, 100, 3);\n",
    "automatedInventory.AddItem(item3);\n",
    "automatedInventory.RemoveItem(item1);\n",
    "Console.WriteLine($\"Доступное место на автоматизированном складе: {automatedInventory.GetStorageStatus()} единиц.\");\n"
   ]
  }
 ],
 "metadata": {
  "kernelspec": {
   "display_name": ".NET (C#)",
   "language": "C#",
   "name": ".net-csharp"
  },
  "polyglot_notebook": {
   "kernelInfo": {
    "defaultKernelName": "csharp",
    "items": [
     {
      "aliases": [],
      "languageName": "csharp",
      "name": "csharp"
     }
    ]
   }
  }
 },
 "nbformat": 4,
 "nbformat_minor": 2
}
